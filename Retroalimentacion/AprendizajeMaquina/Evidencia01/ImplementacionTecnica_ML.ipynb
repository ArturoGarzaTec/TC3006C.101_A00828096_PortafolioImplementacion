{
  "cells": [
    {
      "cell_type": "markdown",
      "source": [
        "**Nombre: Arturo Garza Campuzano**\n",
        "\n",
        "**Matrícula: A00828096**\n",
        "\n",
        "# Implementación de una técnica de aprendizaje máquina sin el uso de un framework\n",
        "\n",
        "En esta implementación se progama uno de los algortimos vistos en el módulo sin usar ningina bilioteca o framework de aprendizaje máquina, ni de estadística avanzada. Lo que se busca es la implementación de un algortimo, sin que se importe un algoritmo ya implementado.\n",
        "\n",
        "En este caso, la implementación del algoritmo se prueba con un conjunto de datos sobre anuncios de redes sociales que describen a los usuarios, si es que han comprado un producto haciendo click en los anuncios que se les muestran (Social_Network_Ads.csv).\n",
        "\n",
        "El modelo que se eligió para esta implementación es la **regresión logística**, la cual se utilizará para predecir si es que un usuario va a comprar un producto o no."
      ],
      "metadata": {
        "id": "l7uhNT8vtAU2"
      }
    },
    {
      "cell_type": "code",
      "execution_count": 3,
      "metadata": {
        "id": "Hn2tkoYaXCul"
      },
      "outputs": [],
      "source": [
        "# Importación de librerias\n",
        "import math\n",
        "import numpy as np\n",
        "import pandas as pd\n",
        "import seaborn as sns\n",
        "import matplotlib.pyplot as plt"
      ]
    },
    {
      "cell_type": "code",
      "execution_count": 4,
      "metadata": {
        "colab": {
          "base_uri": "https://localhost:8080/",
          "height": 206
        },
        "id": "rmkaGzHRXMwr",
        "outputId": "317a5077-36dc-49c4-d2c5-c3e858f28edd"
      },
      "outputs": [
        {
          "output_type": "execute_result",
          "data": {
            "text/plain": [
              "    User ID  Gender  Age  EstimatedSalary  Purchased\n",
              "0  15624510    Male   19            19000          0\n",
              "1  15810944    Male   35            20000          0\n",
              "2  15668575  Female   26            43000          0\n",
              "3  15603246  Female   27            57000          0\n",
              "4  15804002    Male   19            76000          0"
            ],
            "text/html": [
              "\n",
              "  <div id=\"df-f560dabb-624a-43e1-9a2c-0285fd656f9d\" class=\"colab-df-container\">\n",
              "    <div>\n",
              "<style scoped>\n",
              "    .dataframe tbody tr th:only-of-type {\n",
              "        vertical-align: middle;\n",
              "    }\n",
              "\n",
              "    .dataframe tbody tr th {\n",
              "        vertical-align: top;\n",
              "    }\n",
              "\n",
              "    .dataframe thead th {\n",
              "        text-align: right;\n",
              "    }\n",
              "</style>\n",
              "<table border=\"1\" class=\"dataframe\">\n",
              "  <thead>\n",
              "    <tr style=\"text-align: right;\">\n",
              "      <th></th>\n",
              "      <th>User ID</th>\n",
              "      <th>Gender</th>\n",
              "      <th>Age</th>\n",
              "      <th>EstimatedSalary</th>\n",
              "      <th>Purchased</th>\n",
              "    </tr>\n",
              "  </thead>\n",
              "  <tbody>\n",
              "    <tr>\n",
              "      <th>0</th>\n",
              "      <td>15624510</td>\n",
              "      <td>Male</td>\n",
              "      <td>19</td>\n",
              "      <td>19000</td>\n",
              "      <td>0</td>\n",
              "    </tr>\n",
              "    <tr>\n",
              "      <th>1</th>\n",
              "      <td>15810944</td>\n",
              "      <td>Male</td>\n",
              "      <td>35</td>\n",
              "      <td>20000</td>\n",
              "      <td>0</td>\n",
              "    </tr>\n",
              "    <tr>\n",
              "      <th>2</th>\n",
              "      <td>15668575</td>\n",
              "      <td>Female</td>\n",
              "      <td>26</td>\n",
              "      <td>43000</td>\n",
              "      <td>0</td>\n",
              "    </tr>\n",
              "    <tr>\n",
              "      <th>3</th>\n",
              "      <td>15603246</td>\n",
              "      <td>Female</td>\n",
              "      <td>27</td>\n",
              "      <td>57000</td>\n",
              "      <td>0</td>\n",
              "    </tr>\n",
              "    <tr>\n",
              "      <th>4</th>\n",
              "      <td>15804002</td>\n",
              "      <td>Male</td>\n",
              "      <td>19</td>\n",
              "      <td>76000</td>\n",
              "      <td>0</td>\n",
              "    </tr>\n",
              "  </tbody>\n",
              "</table>\n",
              "</div>\n",
              "    <div class=\"colab-df-buttons\">\n",
              "\n",
              "  <div class=\"colab-df-container\">\n",
              "    <button class=\"colab-df-convert\" onclick=\"convertToInteractive('df-f560dabb-624a-43e1-9a2c-0285fd656f9d')\"\n",
              "            title=\"Convert this dataframe to an interactive table.\"\n",
              "            style=\"display:none;\">\n",
              "\n",
              "  <svg xmlns=\"http://www.w3.org/2000/svg\" height=\"24px\" viewBox=\"0 -960 960 960\">\n",
              "    <path d=\"M120-120v-720h720v720H120Zm60-500h600v-160H180v160Zm220 220h160v-160H400v160Zm0 220h160v-160H400v160ZM180-400h160v-160H180v160Zm440 0h160v-160H620v160ZM180-180h160v-160H180v160Zm440 0h160v-160H620v160Z\"/>\n",
              "  </svg>\n",
              "    </button>\n",
              "\n",
              "  <style>\n",
              "    .colab-df-container {\n",
              "      display:flex;\n",
              "      gap: 12px;\n",
              "    }\n",
              "\n",
              "    .colab-df-convert {\n",
              "      background-color: #E8F0FE;\n",
              "      border: none;\n",
              "      border-radius: 50%;\n",
              "      cursor: pointer;\n",
              "      display: none;\n",
              "      fill: #1967D2;\n",
              "      height: 32px;\n",
              "      padding: 0 0 0 0;\n",
              "      width: 32px;\n",
              "    }\n",
              "\n",
              "    .colab-df-convert:hover {\n",
              "      background-color: #E2EBFA;\n",
              "      box-shadow: 0px 1px 2px rgba(60, 64, 67, 0.3), 0px 1px 3px 1px rgba(60, 64, 67, 0.15);\n",
              "      fill: #174EA6;\n",
              "    }\n",
              "\n",
              "    .colab-df-buttons div {\n",
              "      margin-bottom: 4px;\n",
              "    }\n",
              "\n",
              "    [theme=dark] .colab-df-convert {\n",
              "      background-color: #3B4455;\n",
              "      fill: #D2E3FC;\n",
              "    }\n",
              "\n",
              "    [theme=dark] .colab-df-convert:hover {\n",
              "      background-color: #434B5C;\n",
              "      box-shadow: 0px 1px 3px 1px rgba(0, 0, 0, 0.15);\n",
              "      filter: drop-shadow(0px 1px 2px rgba(0, 0, 0, 0.3));\n",
              "      fill: #FFFFFF;\n",
              "    }\n",
              "  </style>\n",
              "\n",
              "    <script>\n",
              "      const buttonEl =\n",
              "        document.querySelector('#df-f560dabb-624a-43e1-9a2c-0285fd656f9d button.colab-df-convert');\n",
              "      buttonEl.style.display =\n",
              "        google.colab.kernel.accessAllowed ? 'block' : 'none';\n",
              "\n",
              "      async function convertToInteractive(key) {\n",
              "        const element = document.querySelector('#df-f560dabb-624a-43e1-9a2c-0285fd656f9d');\n",
              "        const dataTable =\n",
              "          await google.colab.kernel.invokeFunction('convertToInteractive',\n",
              "                                                    [key], {});\n",
              "        if (!dataTable) return;\n",
              "\n",
              "        const docLinkHtml = 'Like what you see? Visit the ' +\n",
              "          '<a target=\"_blank\" href=https://colab.research.google.com/notebooks/data_table.ipynb>data table notebook</a>'\n",
              "          + ' to learn more about interactive tables.';\n",
              "        element.innerHTML = '';\n",
              "        dataTable['output_type'] = 'display_data';\n",
              "        await google.colab.output.renderOutput(dataTable, element);\n",
              "        const docLink = document.createElement('div');\n",
              "        docLink.innerHTML = docLinkHtml;\n",
              "        element.appendChild(docLink);\n",
              "      }\n",
              "    </script>\n",
              "  </div>\n",
              "\n",
              "\n",
              "<div id=\"df-8fc21141-e193-47f8-8b69-bc09e9bcc67a\">\n",
              "  <button class=\"colab-df-quickchart\" onclick=\"quickchart('df-8fc21141-e193-47f8-8b69-bc09e9bcc67a')\"\n",
              "            title=\"Suggest charts.\"\n",
              "            style=\"display:none;\">\n",
              "\n",
              "<svg xmlns=\"http://www.w3.org/2000/svg\" height=\"24px\"viewBox=\"0 0 24 24\"\n",
              "     width=\"24px\">\n",
              "    <g>\n",
              "        <path d=\"M19 3H5c-1.1 0-2 .9-2 2v14c0 1.1.9 2 2 2h14c1.1 0 2-.9 2-2V5c0-1.1-.9-2-2-2zM9 17H7v-7h2v7zm4 0h-2V7h2v10zm4 0h-2v-4h2v4z\"/>\n",
              "    </g>\n",
              "</svg>\n",
              "  </button>\n",
              "\n",
              "<style>\n",
              "  .colab-df-quickchart {\n",
              "    background-color: #E8F0FE;\n",
              "    border: none;\n",
              "    border-radius: 50%;\n",
              "    cursor: pointer;\n",
              "    display: none;\n",
              "    fill: #1967D2;\n",
              "    height: 32px;\n",
              "    padding: 0 0 0 0;\n",
              "    width: 32px;\n",
              "  }\n",
              "\n",
              "  .colab-df-quickchart:hover {\n",
              "    background-color: #E2EBFA;\n",
              "    box-shadow: 0px 1px 2px rgba(60, 64, 67, 0.3), 0px 1px 3px 1px rgba(60, 64, 67, 0.15);\n",
              "    fill: #174EA6;\n",
              "  }\n",
              "\n",
              "  [theme=dark] .colab-df-quickchart {\n",
              "    background-color: #3B4455;\n",
              "    fill: #D2E3FC;\n",
              "  }\n",
              "\n",
              "  [theme=dark] .colab-df-quickchart:hover {\n",
              "    background-color: #434B5C;\n",
              "    box-shadow: 0px 1px 3px 1px rgba(0, 0, 0, 0.15);\n",
              "    filter: drop-shadow(0px 1px 2px rgba(0, 0, 0, 0.3));\n",
              "    fill: #FFFFFF;\n",
              "  }\n",
              "</style>\n",
              "\n",
              "  <script>\n",
              "    async function quickchart(key) {\n",
              "      const charts = await google.colab.kernel.invokeFunction(\n",
              "          'suggestCharts', [key], {});\n",
              "    }\n",
              "    (() => {\n",
              "      let quickchartButtonEl =\n",
              "        document.querySelector('#df-8fc21141-e193-47f8-8b69-bc09e9bcc67a button');\n",
              "      quickchartButtonEl.style.display =\n",
              "        google.colab.kernel.accessAllowed ? 'block' : 'none';\n",
              "    })();\n",
              "  </script>\n",
              "</div>\n",
              "    </div>\n",
              "  </div>\n"
            ]
          },
          "metadata": {},
          "execution_count": 4
        }
      ],
      "source": [
        "# Lectura del archivo Social_Network_Ads.csv para extraer dataset\n",
        "social_df = pd.read_csv('/content/sample_data/Social_Network_Ads.csv') # Cambiar routeo si es necesario\n",
        "social_df.head()"
      ]
    },
    {
      "cell_type": "markdown",
      "source": [
        "## Mapa de calor"
      ],
      "metadata": {
        "id": "NL8SVnoL4ovk"
      }
    },
    {
      "cell_type": "markdown",
      "source": [
        "Con el fin de elegir las **variables de interés** para la implementación del modelo se genera un mapa de calor para revisar la correlación entre todas las variables (atributos) presentes en el conjunto de datos."
      ],
      "metadata": {
        "id": "qrXaqkdo2Ir_"
      }
    },
    {
      "cell_type": "code",
      "execution_count": 5,
      "metadata": {
        "colab": {
          "base_uri": "https://localhost:8080/",
          "height": 791
        },
        "id": "2Mn9GQPbNj5X",
        "outputId": "62a73280-f703-425a-b053-bf840c764ee0"
      },
      "outputs": [
        {
          "output_type": "stream",
          "name": "stderr",
          "text": [
            "<ipython-input-5-92fc80d98e3c>:2: FutureWarning: The default value of numeric_only in DataFrame.corr is deprecated. In a future version, it will default to False. Select only valid columns or specify the value of numeric_only to silence this warning.\n",
            "  corr = social_df.corr()\n",
            "<ipython-input-5-92fc80d98e3c>:7: DeprecationWarning: `np.bool` is a deprecated alias for the builtin `bool`. To silence this warning, use `bool` by itself. Doing this will not modify any behavior and is safe. If you specifically wanted the numpy scalar type, use `np.bool_` here.\n",
            "Deprecated in NumPy 1.20; for more details and guidance: https://numpy.org/devdocs/release/1.20.0-notes.html#deprecations\n",
            "  mask=np.zeros_like(corr, dtype=np.bool),\n"
          ]
        },
        {
          "output_type": "display_data",
          "data": {
            "text/plain": [
              "<Figure size 1000x800 with 2 Axes>"
            ],
            "image/png": "[encoded data removed]"
          },
          "metadata": {}
        }
      ],
      "source": [
        "f, ax = plt.subplots(figsize=(10, 8))\n",
        "corr = social_df.corr()\n",
        "\n",
        "sns.heatmap(corr,\n",
        "            annot=True,\n",
        "            fmt=\".2f\",\n",
        "            mask=np.zeros_like(corr, dtype=np.bool),\n",
        "            cmap=sns.diverging_palette(220, 10, as_cmap=True),\n",
        "            square=True, ax=ax)\n",
        "\n",
        "plt.show()"
      ]
    },
    {
      "cell_type": "markdown",
      "source": [
        "Por lo tanto, nuestras **variables de interés** son:\n",
        "* Edad (Age): Vairbale independiente.\n",
        "* Comprado (Purchased): Variable dependiente.\n",
        "\n",
        "Esto se debe a la correlación moderada entre estas dos variables. Además, considerando que queremos predecir si el usuario comprara o no un producto necesitamos la variable \"Comprado\" para implementar el modelo y realizar la predicción."
      ],
      "metadata": {
        "id": "Yh6RmAk_2t-C"
      }
    },
    {
      "cell_type": "markdown",
      "source": [
        "## Diagrama de dispersión"
      ],
      "metadata": {
        "id": "50HeB_K24stf"
      }
    },
    {
      "cell_type": "markdown",
      "source": [
        "Para visualizar la correlación entre las variables edad y comprado se genera un **diagrama de dispersión** para determinar si es factible o no implementar regresión logística para estas variables."
      ],
      "metadata": {
        "id": "4aV7HM2i5Bcc"
      }
    },
    {
      "cell_type": "code",
      "source": [
        "'''De acuerdo al mapa, la variable que tiene más correlación con la compra es\n",
        "la edad del usuario. Para visualizar mejor la relación entre estas dos variables\n",
        "se genera una gráfica de Edad vs. Comprado.'''\n",
        "\n",
        "#Vairbales\n",
        "age = social_df['Age']\n",
        "purshased = social_df['Purchased']\n",
        "\n",
        "# Crea un diagrama de dispersión\n",
        "plt.scatter(age, purshased, label='Data Points', color='blue')\n",
        "\n",
        "# Add labels and title\n",
        "plt.xlabel('Edad')\n",
        "plt.ylabel('Comprado')\n",
        "plt.title('Edad vs Comprado')\n",
        "\n",
        "# Muestra el diagrama\n",
        "plt.show()"
      ],
      "metadata": {
        "colab": {
          "base_uri": "https://localhost:8080/",
          "height": 472
        },
        "id": "wScEMUVpPe4b",
        "outputId": "30f7a076-8438-4904-f8b5-558ff227cf64"
      },
      "execution_count": 6,
      "outputs": [
        {
          "output_type": "display_data",
          "data": {
            "text/plain": [
              "<Figure size 640x480 with 1 Axes>"
            ],
            "image/png": "[encoded data removed]"
          },
          "metadata": {}
        }
      ]
    },
    {
      "cell_type": "markdown",
      "source": [
        "Se puede contemplar en la gráfica que hay un considerable desfase entre los que compraron y los que no compraron considerando su edad, lo cual nos indica que es posible utilizar el modelo de **regresión logística** y crear una función de hipótesis (sigmoide)."
      ],
      "metadata": {
        "id": "H5wGfT0-5dFW"
      }
    },
    {
      "cell_type": "markdown",
      "source": [
        "## Regresión logística"
      ],
      "metadata": {
        "id": "kjRqF47i6Wyc"
      }
    },
    {
      "cell_type": "markdown",
      "source": [
        "Lo primero que se debe hacer es cargar los datos (listas) y los valores iniciales de los hiper-parámetros."
      ],
      "metadata": {
        "id": "j-UFENFu6eMW"
      }
    },
    {
      "cell_type": "code",
      "execution_count": 7,
      "metadata": {
        "id": "W4L0L3vhDHcw"
      },
      "outputs": [],
      "source": [
        "# Crear lista con los valores de la variable independiente (maxHR)\n",
        "age = social_df['Age']\n",
        "# Crear lista con los valores de la variable dependiente (HeartDisease: no = 0, yes = 1)\n",
        "purshased = social_df['Purchased']\n",
        "# Crear lista con los hiper-parámetros iniciales (thetas)\n",
        "theta0 = 1\n",
        "theta1 = 1\n",
        "theta = [theta0, theta1]\n",
        "# Cargar el valor del learning rate (alpha)\n",
        "alpha = 0.1"
      ]
    },
    {
      "cell_type": "markdown",
      "source": [
        "También se necesita una alternativa que permita estimar fácilmente la variable dependiente y el total de muestras. Dado que se implementará la función logística, se ocupa la función exponencial, por lo que se requiere el módulo **math**. También se necesita una variable para el total de iteraciones."
      ],
      "metadata": {
        "id": "Z6MIH3qz6m3y"
      }
    },
    {
      "cell_type": "code",
      "source": [
        "# Crear función lambda para la función de hipótesis\n",
        "h = lambda x,theta: 1 / (1 + math.exp(-(theta[0] + theta[1] * x)))\n",
        "# Calcular el total de muestras a partir de los datos (n)\n",
        "n = len(social_df)\n",
        "# Definir total de iteraciones a ejecutar\n",
        "i = 10000"
      ],
      "metadata": {
        "id": "gitJvLvnKEOS"
      },
      "execution_count": 8,
      "outputs": []
    },
    {
      "cell_type": "markdown",
      "source": [
        "En cada iteración se debe calcular el valor de la derivada de la **función de costo**, que se obtiene a partir de los datos estimados, $h_\\theta(x_i)$, y reales, $y_i$ (recuerde que los estimados se obtienen con la función de hipótesis de la regresión logística):\n",
        "\n",
        "$\\frac{∂J_{θ}}{∂θ_0} = \\frac{1}{n}\\sum_{i=1}^{n}(h_θ(x_i)-y_i)$\n",
        "\n",
        "$\\frac{∂J_{θ}}{∂θ_1} = \\frac{1}{n}\\sum_{i=1}^{n}(h_θ(x_i)-y_i)x_i$\n",
        "\n",
        "Además, se deben actualizar los valores de los hiper-parámetros, recordando que $\\theta_j=\\theta_j-\\alpha \\frac{∂J_{θ}}{∂θ_j}$:"
      ],
      "metadata": {
        "id": "osPtJOfL74hK"
      }
    },
    {
      "cell_type": "code",
      "execution_count": 9,
      "metadata": {
        "id": "Akij_lwqChj3"
      },
      "outputs": [],
      "source": [
        "# Seleccionar la muestra a utilizar (Attendance o Homework)\n",
        "size = len(social_df)//2\n",
        "x = age[0:size]\n",
        "y = purshased[0:size]\n",
        "\n",
        "# Implementar ciclo para iteraciones\n",
        "for a in range(i):\n",
        "  # Crear acumuladores\n",
        "  delta0 = []\n",
        "  delta1 = []\n",
        "  # Barrer muestras\n",
        "  for xi,yi in zip(x,y):\n",
        "    pred = h(xi, theta)\n",
        "    # Calcular delta para theta0 y para cada muestra\n",
        "    delta0.append(pred-yi)\n",
        "    # Calcular delta para theta1 y para cada muestra\n",
        "    delta1.append((pred-yi)*xi)\n",
        "\n",
        "  # Calcular sumatorias y promedio\n",
        "  dJt0 = 1/n*sum(delta0)\n",
        "  dJt1 = 1/n*sum(delta1)\n",
        "\n",
        "  # Actualizar theta0\n",
        "  theta0 = theta0 - (alpha*dJt0)\n",
        "  # Actualizar theta1\n",
        "  theta1 = theta1 - (alpha*dJt1)\n",
        "\n",
        "  theta = [theta0, theta1]"
      ]
    },
    {
      "cell_type": "markdown",
      "source": [
        "Graficamos la **función de hipótesis** resultante, con los valores nuevos de theta."
      ],
      "metadata": {
        "id": "sHQ7S6CQYSuF"
      }
    },
    {
      "cell_type": "code",
      "source": [
        "# Genera valores de x\n",
        "x_values = np.linspace(0, 100, 100)\n",
        "\n",
        "# Calcular y usar los valores de la funcion lambda\n",
        "y_values = [h(x, theta) for x in x_values]\n",
        "\n",
        "# Crear la gráfica\n",
        "plt.figure(figsize=(8, 6))\n",
        "plt.plot(x_values, y_values, label=r'$h(x,\\theta) = \\frac{1}{{1 + e^{-(\\theta_0 + \\theta_1 x)}}}$')\n",
        "plt.title('Gráfica de la función de hipótesis')\n",
        "plt.xlabel('x')\n",
        "plt.ylabel('h(x,θ)')\n",
        "plt.grid(True)\n",
        "plt.legend()\n",
        "plt.show()"
      ],
      "metadata": {
        "colab": {
          "base_uri": "https://localhost:8080/",
          "height": 565
        },
        "id": "io8svcbKNPvb",
        "outputId": "3df789ab-9c68-47b5-f113-f16d39e2d2ec"
      },
      "execution_count": 10,
      "outputs": [
        {
          "output_type": "display_data",
          "data": {
            "text/plain": [
              "<Figure size 800x600 with 1 Axes>"
            ],
            "image/png": "[encoded data removed]"
          },
          "metadata": {}
        }
      ]
    },
    {
      "cell_type": "markdown",
      "source": [
        "## Evaluación del modelo\n",
        "\n",
        "Se agrupan las **predicciones** de nuestro modelo utilizando la nueva función de hipótesis."
      ],
      "metadata": {
        "id": "VnogM_qs8z1i"
      }
    },
    {
      "cell_type": "code",
      "source": [
        "# Inicializar acumuladores\n",
        "pred = []\n",
        "n = len(age)\n",
        "\n",
        "# Barrer la entrada y estimar las salidas:\n",
        "for i in range(n):\n",
        "  # Usar función de hipótesis\n",
        "  pred_temp = h(age[i], theta)\n",
        "\n",
        "  # Redondear para estimar clase\n",
        "  pred_temp = round(pred_temp)\n",
        "\n",
        "  # Acumular\n",
        "  pred.append(pred_temp)"
      ],
      "metadata": {
        "id": "NBBKD31HcIww"
      },
      "execution_count": 11,
      "outputs": []
    },
    {
      "cell_type": "markdown",
      "source": [
        "Para estimar qué tan bueno es el clasificador, se genera la **matriz de confusión** y las correspondientes **métricas**:\n",
        "\n",
        "$accuracy = \\frac{VP+VN}{VP+VN+FP+FN}$\n",
        "\n",
        "$precision = \\frac{VP}{VP+FP}$\n",
        "\n",
        "$recall = \\frac{VP}{VP+FN}$\n",
        "\n",
        "$F1 = \\frac{2\\cdot precision \\cdot recall}{precision+recall}$"
      ],
      "metadata": {
        "id": "HHDRG3eEYvAo"
      }
    },
    {
      "cell_type": "code",
      "source": [
        "# Inicializar contadores para VP, FP, VN, FN (modelo 1)\n",
        "vp = 0\n",
        "fp = 0\n",
        "vn = 0\n",
        "fn = 0\n",
        "\n",
        "# Barrer datos reales y predicciones (modelo 1)\n",
        "for i in range(n):\n",
        "  # Analizar opciones para dato real == 1\n",
        "  if purshased[i] == 1:\n",
        "    # Analizar si predicción == 1 (VP) o == 0 (FN)\n",
        "    if pred[i] == 1:\n",
        "      vp += 1\n",
        "    else:\n",
        "      fn += 1\n",
        "  # Analizar opciones para dato real == 0\n",
        "  else:\n",
        "    # Analizar si predicción == 1 (FP) o == 0 (VN)\n",
        "    if pred[i] == 1:\n",
        "      fp += 1\n",
        "    else:\n",
        "      vn += 1\n",
        "\n",
        "# Métricas\n",
        "a = (vp + vn)/(vp + vn + fp + fn)\n",
        "p = vp / (vp + fp)\n",
        "r = vp / (vp + fn)\n",
        "f1 = 2*((p*r)/(p+r))\n",
        "\n",
        "# Imprimir resultados\n",
        "print('Regresión logística')\n",
        "print(f\"Acurracy: {a}\")\n",
        "print(f\"Presicion: {p}\")\n",
        "print(f\"Recall: {r}\")\n",
        "print(f\"F1: {f1}\")"
      ],
      "metadata": {
        "colab": {
          "base_uri": "https://localhost:8080/"
        },
        "id": "y6XN0wVHccQy",
        "outputId": "04b1b2cf-1f9f-46d6-aa21-20a14f1a6538"
      },
      "execution_count": 12,
      "outputs": [
        {
          "output_type": "stream",
          "name": "stdout",
          "text": [
            "Regresión logística\n",
            "Acurracy: 0.765\n",
            "Presicion: 0.6384180790960452\n",
            "Recall: 0.7902097902097902\n",
            "F1: 0.70625\n"
          ]
        }
      ]
    },
    {
      "cell_type": "markdown",
      "source": [
        "Por lo tanto, el modelo de **regresión logísitica** implementado sobre el conjunto de datos *Social_Network_Ads.csv* cuenta con las siguientes métricas:\n",
        "\n",
        "* **Acurracy = 76.5 %**\n",
        "* **Presicion = 63.8 %**\n",
        "* **Recall = 79.0 %**\n",
        "* **F1 = 70.6 %**"
      ],
      "metadata": {
        "id": "3qPBM1xLZsHX"
      }
    }
  ],
  "metadata": {
    "colab": {
      "provenance": []
    },
    "kernelspec": {
      "display_name": "Python 3",
      "name": "python3"
    },
    "language_info": {
      "name": "python"
    }
  },
  "nbformat": 4,
  "nbformat_minor": 0
}